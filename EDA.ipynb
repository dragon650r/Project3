{
 "cells": [
  {
   "cell_type": "code",
   "execution_count": 1,
   "metadata": {},
   "outputs": [],
   "source": [
    "# Dependencies\n",
    "import pandas as pd\n",
    "import matplotlib.pyplot as plt"
   ]
  },
  {
   "cell_type": "code",
   "execution_count": 3,
   "metadata": {},
   "outputs": [
    {
     "name": "stdout",
     "output_type": "stream",
     "text": [
      "  show_id     type                  title         director  \\\n",
      "0      s1    Movie   Dick Johnson Is Dead  Kirsten Johnson   \n",
      "1      s2  TV Show          Blood & Water              NaN   \n",
      "2      s3  TV Show              Ganglands  Julien Leclercq   \n",
      "3      s4  TV Show  Jailbirds New Orleans              NaN   \n",
      "4      s5  TV Show           Kota Factory              NaN   \n",
      "\n",
      "                                                cast        country  \\\n",
      "0                                                NaN  United States   \n",
      "1  Ama Qamata, Khosi Ngema, Gail Mabalane, Thaban...   South Africa   \n",
      "2  Sami Bouajila, Tracy Gotoas, Samuel Jouy, Nabi...            NaN   \n",
      "3                                                NaN            NaN   \n",
      "4  Mayur More, Jitendra Kumar, Ranjan Raj, Alam K...          India   \n",
      "\n",
      "           date_added  release_year rating   duration  \\\n",
      "0  September 25, 2021          2020  PG-13     90 min   \n",
      "1  September 24, 2021          2021  TV-MA  2 Seasons   \n",
      "2  September 24, 2021          2021  TV-MA   1 Season   \n",
      "3  September 24, 2021          2021  TV-MA   1 Season   \n",
      "4  September 24, 2021          2021  TV-MA  2 Seasons   \n",
      "\n",
      "                                           listed_in  \\\n",
      "0                                      Documentaries   \n",
      "1    International TV Shows, TV Dramas, TV Mysteries   \n",
      "2  Crime TV Shows, International TV Shows, TV Act...   \n",
      "3                             Docuseries, Reality TV   \n",
      "4  International TV Shows, Romantic TV Shows, TV ...   \n",
      "\n",
      "                                         description  \n",
      "0  As her father nears the end of his life, filmm...  \n",
      "1  After crossing paths at a party, a Cape Town t...  \n",
      "2  To protect his family from a powerful drug lor...  \n",
      "3  Feuds, flirtations and toilet talk go down amo...  \n",
      "4  In a city of coaching centers known to train I...  \n"
     ]
    }
   ],
   "source": [
    "\n",
    "\n",
    "\n",
    "# Load the CSV file into a DataFrame\n",
    "df = pd.read_csv(\"netflix_titles.csv\")\n",
    "\n",
    "# Display the first few rows of the DataFrame to check the data\n",
    "print(df.head())\n"
   ]
  },
  {
   "cell_type": "code",
   "execution_count": 45,
   "metadata": {},
   "outputs": [],
   "source": [
    "# 5. Who are the directors that occur most frequently in the top 3 popular genres on Netflix? \n",
    "\n",
    "#What are the top 3 genres? \n",
    "#What director specializes in the most popular genre?\n",
    "#What director specializes in the 2nd most popular genre?\n",
    "#What director specializes in the 3rd most popular genre?\n",
    "\n",
    "\n",
    "#Who is the director that has directed the most amount of shows/movies in the most popular genre? \n",
    "#Who is the director that has directed the most amount of shows/movies in the 2nd most popular genre? \n",
    "#Who is the director that has directed the most amount of shows/movies in the 3rd most popular genre? "
   ]
  },
  {
   "cell_type": "code",
   "execution_count": 46,
   "metadata": {},
   "outputs": [
    {
     "name": "stdout",
     "output_type": "stream",
     "text": [
      "Column Names: ['show_id', 'type', 'title', 'director', 'cast', 'country', 'date_added', 'release_year', 'rating', 'duration', 'listed_in', 'description']\n"
     ]
    }
   ],
   "source": [
    "# Display the column names\n",
    "print(\"Column Names:\", df.columns.tolist())"
   ]
  },
  {
   "cell_type": "code",
   "execution_count": 47,
   "metadata": {},
   "outputs": [
    {
     "name": "stdout",
     "output_type": "stream",
     "text": [
      "Recurring Answers:\n",
      "listed_in\n",
      "Dramas, International Movies                              362\n",
      "Documentaries                                             359\n",
      "Stand-Up Comedy                                           334\n",
      "Comedies, Dramas, International Movies                    274\n",
      "Dramas, Independent Movies, International Movies          252\n",
      "                                                         ... \n",
      "Anime Series, Romantic TV Shows                             2\n",
      "Anime Features, Music & Musicals, Sci-Fi & Fantasy          2\n",
      "Children & Family Movies, Documentaries, Sports Movies      2\n",
      "Documentaries, Horror Movies                                2\n",
      "Action & Adventure, Children & Family Movies                2\n",
      "Name: count, Length: 372, dtype: int64\n"
     ]
    }
   ],
   "source": [
    "# Choose the column where you want to find recurring answers\n",
    "column_name = 'listed_in'\n",
    "\n",
    "# Find the duplicated values in the column\n",
    "duplicates = df[column_name].value_counts()\n",
    "\n",
    "# Filter to show only recurring (duplicated) answers (values that appear more than once)\n",
    "recurring_answers = duplicates[duplicates > 1]\n",
    "\n",
    "# Display the recurring answers and their counts\n",
    "print(\"Recurring Answers:\")\n",
    "print(recurring_answers)"
   ]
  },
  {
   "cell_type": "code",
   "execution_count": 48,
   "metadata": {},
   "outputs": [
    {
     "name": "stdout",
     "output_type": "stream",
     "text": [
      "The most frequent director is: Youssef Chahine\n",
      "  show_id     type                  title         director  \\\n",
      "0      s1    Movie   Dick Johnson Is Dead  Kirsten Johnson   \n",
      "1      s2  TV Show          Blood & Water              NaN   \n",
      "2      s3  TV Show              Ganglands  Julien Leclercq   \n",
      "3      s4  TV Show  Jailbirds New Orleans              NaN   \n",
      "4      s5  TV Show           Kota Factory              NaN   \n",
      "\n",
      "                                                cast        country  \\\n",
      "0                                                NaN  United States   \n",
      "1  Ama Qamata, Khosi Ngema, Gail Mabalane, Thaban...   South Africa   \n",
      "2  Sami Bouajila, Tracy Gotoas, Samuel Jouy, Nabi...            NaN   \n",
      "3                                                NaN            NaN   \n",
      "4  Mayur More, Jitendra Kumar, Ranjan Raj, Alam K...          India   \n",
      "\n",
      "           date_added  release_year rating   duration  \\\n",
      "0  September 25, 2021          2020  PG-13     90 min   \n",
      "1  September 24, 2021          2021  TV-MA  2 Seasons   \n",
      "2  September 24, 2021          2021  TV-MA   1 Season   \n",
      "3  September 24, 2021          2021  TV-MA   1 Season   \n",
      "4  September 24, 2021          2021  TV-MA  2 Seasons   \n",
      "\n",
      "                                           listed_in  \\\n",
      "0                                      Documentaries   \n",
      "1    International TV Shows, TV Dramas, TV Mysteries   \n",
      "2  Crime TV Shows, International TV Shows, TV Act...   \n",
      "3                             Docuseries, Reality TV   \n",
      "4  International TV Shows, Romantic TV Shows, TV ...   \n",
      "\n",
      "                                         description  \n",
      "0  As her father nears the end of his life, filmm...  \n",
      "1  After crossing paths at a party, a Cape Town t...  \n",
      "2  To protect his family from a powerful drug lor...  \n",
      "3  Feuds, flirtations and toilet talk go down amo...  \n",
      "4  In a city of coaching centers known to train I...  \n"
     ]
    }
   ],
   "source": [
    "# Filter rows where 'listed_in' column contains 'Dramas' and 'International Movies'\n",
    "filtered_df = df[df['listed_in'].str.contains('Dramas', na=False) & df['listed_in'].str.contains('International Movies', na=False)]\n",
    "\n",
    "# Count occurrences of directors in the filtered DataFrame\n",
    "most_frequent_director = filtered_df['director'].value_counts().idxmax()\n",
    "\n",
    "# Print the most frequent director\n",
    "print(f\"The most frequent director is: {most_frequent_director}\")\n",
    "\n",
    "# Display the first few rows of the DataFrame to check the data\n",
    "print(df.head())"
   ]
  },
  {
   "cell_type": "code",
   "execution_count": 55,
   "metadata": {},
   "outputs": [
    {
     "name": "stdout",
     "output_type": "stream",
     "text": [
      "The most frequent director in 'Dramas' and 'International Movies' is: Cathy Garcia-Molina\n"
     ]
    }
   ],
   "source": [
    "# Filter rows where 'listed_in' contains 'Dramas' and 'International Movies'\n",
    "filtered_df = df[df['listed_in'].str.contains('Dramas' and 'International Movies', na=False, case=False)]\n",
    "\n",
    "# Check if the filtered dataframe is empty\n",
    "if filtered_df.empty:\n",
    "    print(\"No entries found for 'Dramas' and 'International Movies' in the 'listed_in' column.\")\n",
    "else:\n",
    "    # Count occurrences of each director in the filtered DataFrame\n",
    "    most_frequent_director = filtered_df['director'].value_counts().idxmax()\n",
    "\n",
    "    # Print the most frequent director\n",
    "    print(f\"The most frequent director in 'Dramas' and 'International Movies' is: {most_frequent_director}\")"
   ]
  },
  {
   "cell_type": "code",
   "execution_count": 49,
   "metadata": {},
   "outputs": [
    {
     "name": "stdout",
     "output_type": "stream",
     "text": [
      "The most frequent director in Documentaries is: Vlad Yudin\n"
     ]
    }
   ],
   "source": [
    "# Filter rows where 'listed_in' contains 'Documentaries'\n",
    "filtered_df = df[df['listed_in'].str.contains('Documentaries', na=False, case=False)]\n",
    "\n",
    "# Check if the filtered dataframe is empty\n",
    "if filtered_df.empty:\n",
    "    print(\"No entries found for 'Documentaries' in the 'listed_in' column.\")\n",
    "else:\n",
    "    # Count occurrences of each director in the filtered DataFrame\n",
    "    most_frequent_director = filtered_df['director'].value_counts().idxmax()\n",
    "\n",
    "    # Print the most frequent director\n",
    "    print(f\"The most frequent director in Documentaries is: {most_frequent_director}\")"
   ]
  },
  {
   "cell_type": "code",
   "execution_count": 50,
   "metadata": {},
   "outputs": [
    {
     "name": "stdout",
     "output_type": "stream",
     "text": [
      "The most frequent director in Stand-Up Comedy is: Raúl Campos, Jan Suter\n"
     ]
    }
   ],
   "source": [
    "# Filter rows where 'listed_in' contains 'Stand-Up Comedy'\n",
    "filtered_df = df[df['listed_in'].str.contains('Stand-Up Comedy', na=False, case=False)]\n",
    "\n",
    "# Check if the filtered dataframe is empty\n",
    "if filtered_df.empty:\n",
    "    print(\"No entries found for 'Stand-Up Comedy' in the 'listed_in' column.\")\n",
    "else:\n",
    "    # Count occurrences of each director in the filtered DataFrame\n",
    "    most_frequent_director = filtered_df['director'].value_counts().idxmax()\n",
    "\n",
    "    # Print the most frequent director\n",
    "    print(f\"The most frequent director in Stand-Up Comedy is: {most_frequent_director}\")"
   ]
  },
  {
   "cell_type": "code",
   "execution_count": 54,
   "metadata": {},
   "outputs": [
    {
     "data": {
      "image/png": "[encoded data removed]",
      "text/plain": [
       "<Figure size 800x800 with 1 Axes>"
      ]
     },
     "metadata": {},
     "output_type": "display_data"
    },
    {
     "name": "stdout",
     "output_type": "stream",
     "text": [
      "Documentaries - Director: Vlad Yudin - Movies/TV Shows Produced: 359\n",
      "Dramas & International Movies - Director: Youssef Chahine - Movies/TV Shows Produced: 362\n",
      "Stand-Up Comedy - Director: Raúl Campos, Jan Suter - Movies/TV Shows Produced: 334\n"
     ]
    }
   ],
   "source": [
    "# Manually input the data\n",
    "genres = ['Documentaries', 'Dramas & International Movies', 'Stand-Up Comedy']\n",
    "director_counts = [359, 362, 334]  # Corresponding counts for each genre\n",
    "directors = ['Vlad Yudin', 'Youssef Chahine', 'Raúl Campos, Jan Suter']  # The most frequent directors for each genre\n",
    "\n",
    "# Create the pie chart\n",
    "plt.figure(figsize=(8, 8))\n",
    "plt.pie(director_counts, labels=genres, autopct='%1.1f%%', startangle=90, colors=plt.cm.Paired.colors)\n",
    "\n",
    "# Add a title\n",
    "plt.title('Genres and Directors')\n",
    "\n",
    "# Equal aspect ratio ensures that pie is drawn as a circle.\n",
    "plt.axis('equal')\n",
    "\n",
    "# Show the pie chart\n",
    "plt.show()\n",
    "\n",
    "# Print out the data for the user\n",
    "for genre, director, count in zip(genres, directors, director_counts):\n",
    "    print(f\"{genre} - Director: {director} - Movies/TV Shows Produced: {count}\")"
   ]
  },
  {
   "cell_type": "code",
   "execution_count": null,
   "metadata": {},
   "outputs": [],
   "source": []
  }
 ],
 "metadata": {
  "kernelspec": {
   "display_name": ".venv",
   "language": "python",
   "name": "python3"
  },
  "language_info": {
   "codemirror_mode": {
    "name": "ipython",
    "version": 3
   },
   "file_extension": ".py",
   "mimetype": "text/x-python",
   "name": "python",
   "nbconvert_exporter": "python",
   "pygments_lexer": "ipython3",
   "version": "3.9.6"
  }
 },
 "nbformat": 4,
 "nbformat_minor": 2
}
